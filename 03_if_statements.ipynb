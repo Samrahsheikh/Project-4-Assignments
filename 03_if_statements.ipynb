{
  "nbformat": 4,
  "nbformat_minor": 0,
  "metadata": {
    "colab": {
      "provenance": [],
      "authorship_tag": "ABX9TyOtMponGwNlCNN+vIuPrr8x",
      "include_colab_link": true
    },
    "kernelspec": {
      "name": "python3",
      "display_name": "Python 3"
    },
    "language_info": {
      "name": "python"
    }
  },
  "cells": [
    {
      "cell_type": "markdown",
      "metadata": {
        "id": "view-in-github",
        "colab_type": "text"
      },
      "source": [
        "<a href=\"https://colab.research.google.com/github/Samrahsheikh/Project-4-Assignments/blob/main/03_if_statements.ipynb\" target=\"_parent\"><img src=\"https://colab.research.google.com/assets/colab-badge.svg\" alt=\"Open In Colab\"/></a>"
      ]
    },
    {
      "cell_type": "code",
      "execution_count": 4,
      "metadata": {
        "colab": {
          "base_uri": "https://localhost:8080/"
        },
        "id": "q6oF8BPSxDlq",
        "outputId": "5b33a15a-adc3-447a-c5f5-33fd6cc7e315"
      },
      "outputs": [
        {
          "output_type": "stream",
          "name": "stdout",
          "text": [
            "01_print_events\n",
            "0\n",
            "2\n",
            "4\n",
            "6\n",
            "8\n",
            "10\n",
            "12\n",
            "14\n",
            "16\n",
            "18\n",
            "20\n",
            "22\n",
            "24\n",
            "26\n",
            "28\n",
            "30\n",
            "32\n",
            "34\n",
            "36\n",
            "38\n"
          ]
        }
      ],
      "source": [
        "print(\"01_print_events\")\n",
        "\n",
        "def main():\n",
        "    # This for-loop start at 0 and counts up to 19 (for a total of 20 numbers)\n",
        "    for i in range(20):\n",
        "        print(i * 2)  # Use the 'i' value inside the for-loop\n",
        "\n",
        "# Call the main function when \"run\", no need to edit anything below!\n",
        "if __name__ == \"__main__\":\n",
        "    main()"
      ]
    },
    {
      "cell_type": "code",
      "source": [
        "print(\"02_international_voting_age\")\n",
        "\n",
        "PETURKSBOUIPO_AGE : int = 16\n",
        "STANLAU_AGE : int = 25\n",
        "MAYENGUA_AGE : int = 48\n",
        "\n",
        "def main():\n",
        "    # Get the user's age\n",
        "    user_age = int(input(\"How old are you? \"))\n",
        "\n",
        "    # Check if the user can vote in Peturksbouipo\n",
        "    if user_age >= PETURKSBOUIPO_AGE:\n",
        "        print(\"You can vote in Peturksbouipo where the voting age is \" + str(PETURKSBOUIPO_AGE) + \".\")\n",
        "    else:\n",
        "        print(\"You cannot vote in Peturksbouipo where the voting age is \" + str(PETURKSBOUIPO_AGE) + \".\")\n",
        "\n",
        "    # Check if the user can vote in Stanlau\n",
        "    if user_age >= STANLAU_AGE:\n",
        "        print(\"You can vote in Stanlau where the voting age is \" + str(STANLAU_AGE) + \".\")\n",
        "    else:\n",
        "        print(\"You cannot vote in Stanlau where the voting age is \" + str(STANLAU_AGE) + \".\")\n",
        "\n",
        "    # Check if user can vote in Mayengua\n",
        "    if user_age >= MAYENGUA_AGE:\n",
        "        print(\"You can vote in Mayengua where the voting age is \" + str(MAYENGUA_AGE) + \".\")\n",
        "    else:\n",
        "        print(\"You cannot vote in Mayengua where the voting age is \" + str(MAYENGUA_AGE) + \".\")\n",
        "\n",
        "\n",
        "# There is no need to edit code beyond this point\n",
        "\n",
        "if __name__ == '__main__':\n",
        "    main()"
      ],
      "metadata": {
        "colab": {
          "base_uri": "https://localhost:8080/"
        },
        "id": "S1RGg-yqzgr8",
        "outputId": "66f8a66f-e267-4ec8-d564-de80c3b79e1b"
      },
      "execution_count": 5,
      "outputs": [
        {
          "output_type": "stream",
          "name": "stdout",
          "text": [
            "02_international_voting_age\n",
            "How old are you? 24\n",
            "You can vote in Peturksbouipo where the voting age is 16.\n",
            "You cannot vote in Stanlau where the voting age is 25.\n",
            "You cannot vote in Mayengua where the voting age is 48.\n"
          ]
        }
      ]
    },
    {
      "cell_type": "code",
      "source": [
        "print(\"03_leap_year\")\n",
        "\n",
        "def main():\n",
        "    # Get the year to check from the user\n",
        "    year = int(input('Please input a year: '))\n",
        "\n",
        "    if year % 4 == 0:  # Checking whether the provided year is evenly divisibly by 4\n",
        "        if year % 100 == 0:  # Checking whether the provided year is evenly divisibly by 100\n",
        "            if year % 400 == 0:  # Checking whether the provided year is evenly divisibly by 400\n",
        "                print(\"That's a leap year!\")\n",
        "            else:  # (Not divisible by 400)\n",
        "                print(\"That's not a leap year.\")\n",
        "        else:  # (Not divisible by 100)\n",
        "            print(\"That's a leap year!\")\n",
        "    else:  # (Not divisible by 4)\n",
        "        print(\"That's not a leap year.\")\n",
        "\n",
        "\n",
        "# There is no need to edit code beyond this point\n",
        "\n",
        "if __name__ == '__main__':\n",
        "    main()"
      ],
      "metadata": {
        "colab": {
          "base_uri": "https://localhost:8080/"
        },
        "id": "gvMZjzd-zhnI",
        "outputId": "3af15d01-3379-45dd-abb5-0c64cbc04e53"
      },
      "execution_count": 9,
      "outputs": [
        {
          "output_type": "stream",
          "name": "stdout",
          "text": [
            "03_leap_year\n",
            "Please input a year: 2001\n",
            "That's not a leap year.\n"
          ]
        }
      ]
    },
    {
      "cell_type": "code",
      "source": [
        "print(\"04_tall_enough_to_ride\")\n",
        "\n",
        "MINIMUM_HEIGHT : int = 50 # arbitrary units :)\n",
        "\n",
        "def main():\n",
        "    height = float(input(\"How tall are you? \"))\n",
        "    if height >= MINIMUM_HEIGHT:\n",
        "        print(\"You're tall enough to ride!\")\n",
        "    else:\n",
        "        print(\"You're not tall enough to ride, but maybe next year!\")\n",
        "\n",
        "\n",
        "# There is no need to edit code beyond this point\n",
        "\n",
        "if __name__ == '__main__':\n",
        "    main()"
      ],
      "metadata": {
        "colab": {
          "base_uri": "https://localhost:8080/"
        },
        "id": "pOUPutqNzjDV",
        "outputId": "cf25f221-e1e7-4ebf-916f-5df14e465160"
      },
      "execution_count": 13,
      "outputs": [
        {
          "output_type": "stream",
          "name": "stdout",
          "text": [
            "04_tall_enough_to_ride\n",
            "How tall are you? 4.10\n",
            "You're not tall enough to ride, but maybe next year!\n"
          ]
        }
      ]
    },
    {
      "cell_type": "code",
      "source": [
        "import random\n",
        "print(\"05_random_numbers\")\n",
        "\n",
        "def main():\n",
        "    for i in range(10):\n",
        "        num: int = random.randint(1, 100)\n",
        "        print(num)\n",
        "\n",
        "if __name__ == '__main__':\n",
        "    main()\n"
      ],
      "metadata": {
        "colab": {
          "base_uri": "https://localhost:8080/"
        },
        "id": "8LjErWxkzkjV",
        "outputId": "932c741e-61b2-4abd-b699-fd0a0a45dcbb"
      },
      "execution_count": 15,
      "outputs": [
        {
          "output_type": "stream",
          "name": "stdout",
          "text": [
            "05_random_numbers\n",
            "98\n",
            "64\n",
            "44\n",
            "48\n",
            "33\n",
            "19\n",
            "24\n",
            "100\n",
            "92\n",
            "19\n"
          ]
        }
      ]
    }
  ]
}