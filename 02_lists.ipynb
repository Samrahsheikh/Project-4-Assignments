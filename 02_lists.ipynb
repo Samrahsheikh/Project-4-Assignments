{
  "nbformat": 4,
  "nbformat_minor": 0,
  "metadata": {
    "colab": {
      "provenance": [],
      "authorship_tag": "ABX9TyOc3KQDKif0ZouAeyAcYLXP",
      "include_colab_link": true
    },
    "kernelspec": {
      "name": "python3",
      "display_name": "Python 3"
    },
    "language_info": {
      "name": "python"
    }
  },
  "cells": [
    {
      "cell_type": "markdown",
      "metadata": {
        "id": "view-in-github",
        "colab_type": "text"
      },
      "source": [
        "<a href=\"https://colab.research.google.com/github/Samrahsheikh/Project-4-Assignments/blob/main/02_lists.ipynb\" target=\"_parent\"><img src=\"https://colab.research.google.com/assets/colab-badge.svg\" alt=\"Open In Colab\"/></a>"
      ]
    },
    {
      "cell_type": "code",
      "execution_count": 7,
      "metadata": {
        "colab": {
          "base_uri": "https://localhost:8080/"
        },
        "id": "Uh3Q5uxpifFE",
        "outputId": "cb8e3fd8-1716-4500-e712-1162b9db4d2b"
      },
      "outputs": [
        {
          "output_type": "stream",
          "name": "stdout",
          "text": [
            "01_add_many_number\n",
            "15\n"
          ]
        }
      ],
      "source": [
        "print(\"01_add_many_number\")\n",
        "\n",
        "def add_many_numbers(numbers)-> int:\n",
        "\n",
        "    total_so_far: int = 0\n",
        "    for number in numbers:\n",
        "        total_so_far += number\n",
        "\n",
        "    return total_so_far\n",
        "\n",
        "# There is no need to edit code beyond this point\n",
        "\n",
        "def main():\n",
        "    numbers: list[int] = [1, 2, 3, 4, 5]  # Make a list of numbers\n",
        "    sum_of_numbers: int = add_many_numbers(numbers)  # Find the sum of the list\n",
        "    print(sum_of_numbers)  # Print out the sum above\n",
        "\n",
        "\n",
        "if __name__ == '__main__':\n",
        "    main()"
      ]
    },
    {
      "cell_type": "code",
      "source": [
        "print(\"02_double_list\")\n",
        "\n",
        "def main():\n",
        "    numbers: list[int] = [1, 2, 3, 4, 5]  # Creates a list of numbers\n",
        "\n",
        "    for i in range(len(numbers)):  # Loop through the indices of the list\n",
        "        elem_at_index = numbers[i]  # Get the element at index i in the numbers list\n",
        "        numbers[i] = elem_at_index * 2  # Set the element at index i to be equal to the previous element times 2\n",
        "\n",
        "    print(numbers)  # This should print the doubled list\n",
        "\n",
        "\n",
        "# There is no need to edit code beyond this point\n",
        "\n",
        "if __name__ == '__main__':\n",
        "    main()"
      ],
      "metadata": {
        "colab": {
          "base_uri": "https://localhost:8080/"
        },
        "id": "JztUBcYRitnn",
        "outputId": "728b42ef-0766-48c8-e731-463b78579a6e"
      },
      "execution_count": 8,
      "outputs": [
        {
          "output_type": "stream",
          "name": "stdout",
          "text": [
            "02_double_list\n",
            "[2, 4, 6, 8, 10]\n"
          ]
        }
      ]
    },
    {
      "cell_type": "code",
      "source": [
        "print(\"04_flowing_with_data_structures\")\n",
        "\n",
        "def add_three_copies(my_list, data):\n",
        "    for i in range(3):\n",
        "        my_list.append(data)\n",
        "\n",
        "def main():\n",
        "    message = input(\"Enter a message to copy: \")\n",
        "    my_list = []\n",
        "    print(\"List before:\", my_list)\n",
        "    add_three_copies(my_list, message)\n",
        "    print(\"List after:\", my_list)\n",
        "\n",
        "if __name__ == \"__main__\":\n",
        "    main()"
      ],
      "metadata": {
        "colab": {
          "base_uri": "https://localhost:8080/"
        },
        "id": "R6qbaLyViw-v",
        "outputId": "65259fc1-9d61-4031-86c4-65811140ec62"
      },
      "execution_count": 11,
      "outputs": [
        {
          "output_type": "stream",
          "name": "stdout",
          "text": [
            "04_flowing_with_data_structures\n",
            "Enter a message to copy: Pakistan Zindabad\n",
            "List before: []\n",
            "List after: ['Pakistan Zindabad', 'Pakistan Zindabad', 'Pakistan Zindabad']\n"
          ]
        }
      ]
    },
    {
      "cell_type": "code",
      "source": [
        "print(\"05_get_first_element\")\n",
        "\n",
        "def get_first_element(lst):\n",
        "\n",
        "    print(lst[0])\n",
        "\n",
        "# There is no need to edit code beyond this point\n",
        "\n",
        "def get_lst():\n",
        "    \"\"\"\n",
        "    Prompts the user to enter one element of the list at a time and returns the resulting list.\n",
        "    \"\"\"\n",
        "    lst = []\n",
        "    elem: str = input(\"Please enter an element of the list or press enter to stop. \")\n",
        "    while elem != \"\":\n",
        "        lst.append(elem)\n",
        "        elem = input(\"Please enter an element of the list or press enter to stop. \")\n",
        "    return lst\n",
        "\n",
        "def main():\n",
        "    lst = get_lst()\n",
        "    get_first_element(lst)\n",
        "\n",
        "\n",
        "if __name__ == '__main__':\n",
        "    main()"
      ],
      "metadata": {
        "colab": {
          "base_uri": "https://localhost:8080/"
        },
        "id": "DHqGjtjViyjy",
        "outputId": "218720f1-f3ee-48c6-b67e-6fe5ca72259a"
      },
      "execution_count": 13,
      "outputs": [
        {
          "output_type": "stream",
          "name": "stdout",
          "text": [
            "05_get_first_element\n",
            "Please enter an element of the list or press enter to stop. s\n",
            "Please enter an element of the list or press enter to stop. a\n",
            "Please enter an element of the list or press enter to stop. m\n",
            "Please enter an element of the list or press enter to stop. r\n",
            "Please enter an element of the list or press enter to stop. a\n",
            "Please enter an element of the list or press enter to stop. h\n",
            "Please enter an element of the list or press enter to stop. \n",
            "s\n"
          ]
        }
      ]
    },
    {
      "cell_type": "code",
      "source": [
        "print(\"06_get_last_element\")\n",
        "\n",
        "def get_last_element(lst):\n",
        "    if lst:\n",
        "        print(\"Last element:\", lst[-1])\n",
        "    else:\n",
        "        print(\"The list is empty. No last element.\")\n",
        "\n",
        "def get_lst():\n",
        "    \"\"\"\n",
        "    Prompts the user to enter one element of the list at a time and returns the resulting list.\n",
        "    \"\"\"\n",
        "    lst = []\n",
        "    elem: str = input(\"Please enter an element of the list or press enter to stop: \")\n",
        "    while elem != \"\":\n",
        "        lst.append(elem)\n",
        "        elem = input(\"Please enter an element of the list or press enter to stop: \")\n",
        "    return lst\n",
        "\n",
        "def main():\n",
        "    lst = get_lst()\n",
        "    get_last_element(lst)\n",
        "\n",
        "if __name__ == '__main__':\n",
        "    main()\n"
      ],
      "metadata": {
        "colab": {
          "base_uri": "https://localhost:8080/"
        },
        "id": "IGaGr-CYiz3P",
        "outputId": "debc41d8-d951-493f-f885-2d0518d6289f"
      },
      "execution_count": 16,
      "outputs": [
        {
          "output_type": "stream",
          "name": "stdout",
          "text": [
            "06_get_last_element\n",
            "Please enter an element of the list or press enter to stop: s\n",
            "Please enter an element of the list or press enter to stop: h\n",
            "Please enter an element of the list or press enter to stop: e\n",
            "Please enter an element of the list or press enter to stop: i\n",
            "Please enter an element of the list or press enter to stop: k\n",
            "Please enter an element of the list or press enter to stop: h\n",
            "Please enter an element of the list or press enter to stop: \n",
            "Last element: h\n"
          ]
        }
      ]
    },
    {
      "cell_type": "code",
      "source": [
        "print(\"07_get_list\")\n",
        "\n",
        "def main():\n",
        "    lst = []  # Make an empty list to store things in\n",
        "\n",
        "    val = input(\"Enter a value: \")  # Get an initial value\n",
        "    while val:  # While the user input isn't an empty value\n",
        "        lst.append(val) # Add val to list\n",
        "        val = input(\"Enter a value: \")  # Get the next value to add\n",
        "\n",
        "    print(\"Here's the list:\", lst)\n",
        "\n",
        "\n",
        "# There is no need to edit code beyond this point\n",
        "\n",
        "if __name__ == '__main__':\n",
        "    main()"
      ],
      "metadata": {
        "colab": {
          "base_uri": "https://localhost:8080/"
        },
        "id": "9qVqB5jUi1MR",
        "outputId": "b0f1365f-9e73-4235-a9e0-ae45b3ffa391"
      },
      "execution_count": 17,
      "outputs": [
        {
          "output_type": "stream",
          "name": "stdout",
          "text": [
            "07_get_list\n",
            "Enter a value: 123\n",
            "Enter a value: 12345\n",
            "Enter a value: \n",
            "Here's the list: ['123', '12345']\n"
          ]
        }
      ]
    },
    {
      "cell_type": "code",
      "source": [
        "print(\"08_shorten\")\n",
        "\n",
        "MAX_LENGTH : int = 3\n",
        "\n",
        "def shorten(lst):\n",
        "    while len(lst) > MAX_LENGTH:\n",
        "        last_elem = lst.pop()\n",
        "        print(last_elem)\n",
        "\n",
        "# There is no need to edit code beyond this point\n",
        "3\n",
        "def get_lst():\n",
        "    \"\"\"\n",
        "    Prompts the user to enter one element of the list at a time and returns the resulting list.\n",
        "    \"\"\"\n",
        "    lst = []\n",
        "    elem = input(\"Please enter an element of the list or press enter to stop. \")\n",
        "    while elem != \"\":\n",
        "        lst.append(elem)\n",
        "        elem = input(\"Please enter an element of the list or press enter to stop. \")\n",
        "    return lst\n",
        "\n",
        "def main():\n",
        "    lst = get_lst()\n",
        "    shorten(lst)\n",
        "\n",
        "\n",
        "if __name__ == '__main__':\n",
        "    main()"
      ],
      "metadata": {
        "colab": {
          "base_uri": "https://localhost:8080/"
        },
        "id": "MakAqBERi3Ny",
        "outputId": "693bfa87-758c-4f05-df0b-1397d646743b"
      },
      "execution_count": 20,
      "outputs": [
        {
          "output_type": "stream",
          "name": "stdout",
          "text": [
            "08_shorten\n",
            "Please enter an element of the list or press enter to stop. sam\n",
            "Please enter an element of the list or press enter to stop. rah\n",
            "Please enter an element of the list or press enter to stop. haha\n",
            "Please enter an element of the list or press enter to stop. hhah\n",
            "Please enter an element of the list or press enter to stop. hahaha\n",
            "Please enter an element of the list or press enter to stop. hahahah\n",
            "Please enter an element of the list or press enter to stop. ahahaha\n",
            "Please enter an element of the list or press enter to stop. \n",
            "ahahaha\n",
            "hahahah\n",
            "hahaha\n",
            "hhah\n"
          ]
        }
      ]
    }
  ]
}