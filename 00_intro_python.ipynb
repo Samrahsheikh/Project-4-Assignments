{
  "nbformat": 4,
  "nbformat_minor": 0,
  "metadata": {
    "colab": {
      "provenance": [],
      "authorship_tag": "ABX9TyMtJRAFG4mFCdYth1Hmi0NJ",
      "include_colab_link": true
    },
    "kernelspec": {
      "name": "python3",
      "display_name": "Python 3"
    },
    "language_info": {
      "name": "python"
    }
  },
  "cells": [
    {
      "cell_type": "markdown",
      "metadata": {
        "id": "view-in-github",
        "colab_type": "text"
      },
      "source": [
        "<a href=\"https://colab.research.google.com/github/Samrahsheikh/Project-4-Assignments/blob/main/00_intro_python.ipynb\" target=\"_parent\"><img src=\"https://colab.research.google.com/assets/colab-badge.svg\" alt=\"Open In Colab\"/></a>"
      ]
    },
    {
      "cell_type": "markdown",
      "source": [],
      "metadata": {
        "id": "LWnTkv5-X9FB"
      }
    },
    {
      "cell_type": "code",
      "source": [
        "print(\"01_add_two_number\")\n",
        "\n",
        "def add():\n",
        "    print(\"This application is for adding two numbers\")\n",
        "    first_number = int(input(\"Enter your first number: \"))\n",
        "    second_number = int(input(\"Enter your second number: \"))\n",
        "    total = first_number + second_number\n",
        "    print(f'The total sum of {first_number} and {second_number} is {total}')\n",
        "\n",
        "if __name__ == \"__main__\":\n",
        "    add()\n"
      ],
      "metadata": {
        "colab": {
          "base_uri": "https://localhost:8080/"
        },
        "id": "P6hBYwk3X9jh",
        "outputId": "64baf039-10a6-4878-9ca3-4d1937a3da80"
      },
      "execution_count": 5,
      "outputs": [
        {
          "output_type": "stream",
          "name": "stdout",
          "text": [
            "01_add_two_number\n",
            "This application is for adding two numbers\n",
            "Enter your first number: 12\n",
            "Enter your second number: 15\n",
            "The total sum of 12 and 15 is 27\n"
          ]
        }
      ]
    },
    {
      "cell_type": "code",
      "source": [
        "print(\"02_agreement_bot\")\n",
        "\n",
        "def bot():\n",
        "    animal = input(\"What is your favourite animal? \")\n",
        "    print(f\"My favourite animal is also {animal}!\")\n",
        "\n",
        "if __name__ == \"__main__\":\n",
        "    bot()"
      ],
      "metadata": {
        "colab": {
          "base_uri": "https://localhost:8080/"
        },
        "id": "_8U6ZEZZa0Zq",
        "outputId": "af32a1f8-a874-4eff-8bd7-8f9adf29591f"
      },
      "execution_count": 8,
      "outputs": [
        {
          "output_type": "stream",
          "name": "stdout",
          "text": [
            "02_agreement_bot\n",
            "What is your favourite animal? cat\n",
            "My favourite animal is also cat!\n"
          ]
        }
      ]
    },
    {
      "cell_type": "code",
      "source": [
        "print(\"03_fahrenheit_to_celsius\")\n",
        "\n",
        "def temp():\n",
        "    print(\"This code is for converting Fahrenheit to Celsius\")\n",
        "    fahrenheit_degree = float(input(\"Enter your Fahrenheit temperature: \"))\n",
        "    celsius_degree = (fahrenheit_degree - 32) * 5.0 / 9.0\n",
        "    print(f'Temperature {fahrenheit_degree}°F = {celsius_degree:.2f}°C')\n",
        "\n",
        "if __name__ == \"__main__\":\n",
        "    temp()"
      ],
      "metadata": {
        "colab": {
          "base_uri": "https://localhost:8080/"
        },
        "id": "T4xkUb_be1Aa",
        "outputId": "2540b5cc-9ba1-4097-a3bd-0d71fbfc7270"
      },
      "execution_count": 9,
      "outputs": [
        {
          "output_type": "stream",
          "name": "stdout",
          "text": [
            "03_fahrenheit_to_celsius\n",
            "This code is for converting Fahrenheit to Celsius\n",
            "Enter your Fahrenheit temperature: 45\n",
            "Temperature 45.0°F = 7.22°C\n"
          ]
        }
      ]
    },
    {
      "cell_type": "code",
      "source": [
        "print(\"04_how_old_are_they\")\n",
        "\n",
        "def add_ages():\n",
        "    anthon: int = 21\n",
        "    beth: int = anthon + 6\n",
        "    chen: int = beth + 20\n",
        "    drew: int = chen + anthon\n",
        "    ethan: int = chen\n",
        "\n",
        "    print(\"Anthon is \" + str(anthon))\n",
        "    print(\"Beth is \" + str(beth))\n",
        "    print(\"Chen is \" + str(chen))\n",
        "    print(\"Drew is \" + str(drew))\n",
        "    print(\"Ethan is \" + str(ethan))\n",
        "\n",
        "if __name__ == \"__main__\":\n",
        "    add_ages()"
      ],
      "metadata": {
        "colab": {
          "base_uri": "https://localhost:8080/"
        },
        "id": "SmZk_j-Bj0de",
        "outputId": "f36dcc4a-70df-4b25-d609-c7d732050dfc"
      },
      "execution_count": 13,
      "outputs": [
        {
          "output_type": "stream",
          "name": "stdout",
          "text": [
            "04_how_old_are_they\n",
            "Anthon is 21\n",
            "Beth is 27\n",
            "Chen is 47\n",
            "Drew is 68\n",
            "Ethan is 47\n"
          ]
        }
      ]
    },
    {
      "cell_type": "code",
      "source": [
        "print(\"05_triangle_perimeter\")\n",
        "\n",
        "def triangle():\n",
        "    print(\"This code is about parameter of triangle.\")\n",
        "    side1: float = float(input(\"Enter your first side of the triangle: \"))\n",
        "    side2: float = float(input(\"Enter your second side of the triangle: \"))\n",
        "    side3: float = float(input(\"Enter your third side of the triangle: \"))\n",
        "    total: float = side1 + side2 + side3\n",
        "    print(f'The sum of {side1}, {side2}, and {side3} is {total}')\n",
        "\n",
        "if __name__ == \"__main__\":\n",
        "    triangle()\n"
      ],
      "metadata": {
        "colab": {
          "base_uri": "https://localhost:8080/"
        },
        "id": "6wMDKOpWnbzg",
        "outputId": "0611a4a9-5cc3-4692-ffd7-1ef5b4a28df1"
      },
      "execution_count": 16,
      "outputs": [
        {
          "output_type": "stream",
          "name": "stdout",
          "text": [
            "05_triangle_perimeter\n",
            "This code is about the sum of triangle sides\n",
            "Enter your first side of the triangle: 2\n",
            "Enter your second side of the triangle: 55\n",
            "Enter your third side of the triangle: 7\n",
            "The sum of 2.0, 55.0, and 7.0 is 64.0\n"
          ]
        }
      ]
    },
    {
      "cell_type": "code",
      "source": [
        "print(\"06_square_number\")\n",
        "\n",
        "def square():\n",
        "    print(\"This code is about the square of a given number\")\n",
        "    num1: int = int(input(\"Enter any number and I will give you its square: \"))\n",
        "    print(f'The square of {num1} is {num1 ** 2}')\n",
        "\n",
        "if __name__ == \"__main__\":\n",
        "    square()\n"
      ],
      "metadata": {
        "colab": {
          "base_uri": "https://localhost:8080/"
        },
        "id": "ijecjkQ2ngtv",
        "outputId": "697838d1-5249-4a40-c46f-1169922a990d"
      },
      "execution_count": 18,
      "outputs": [
        {
          "output_type": "stream",
          "name": "stdout",
          "text": [
            "06_square_number\n",
            "This code is about the square of a given number\n",
            "Enter any number and I will give you its square: 2\n",
            "The square of 2 is 4\n"
          ]
        }
      ]
    }
  ]
}