{
  "nbformat": 4,
  "nbformat_minor": 0,
  "metadata": {
    "colab": {
      "provenance": [],
      "authorship_tag": "ABX9TyPIkRhmaQrLeqfjjugJ4p+e",
      "include_colab_link": true
    },
    "kernelspec": {
      "name": "python3",
      "display_name": "Python 3"
    },
    "language_info": {
      "name": "python"
    }
  },
  "cells": [
    {
      "cell_type": "markdown",
      "metadata": {
        "id": "view-in-github",
        "colab_type": "text"
      },
      "source": [
        "<a href=\"https://colab.research.google.com/github/Samrahsheikh/Project-4-Assignments/blob/main/02_intermediate.ipynb\" target=\"_parent\"><img src=\"https://colab.research.google.com/assets/colab-badge.svg\" alt=\"Open In Colab\"/></a>"
      ]
    },
    {
      "cell_type": "code",
      "execution_count": null,
      "metadata": {
        "colab": {
          "base_uri": "https://localhost:8080/"
        },
        "id": "wklpco5TRmIu",
        "outputId": "aa6a6957-8a4c-46ff-e6c8-a17fd9a949c8"
      },
      "outputs": [
        {
          "output_type": "stream",
          "name": "stdout",
          "text": [
            "(High Low Game)\n",
            "Welcome to the High-Low Game\n",
            "****************************\n",
            "\n",
            "Round 1\n",
            "Your number is 72\n",
            "Do you think your number is higher or lower than the computer's number? (higher/lower): heigher\n",
            "That's incorrect. The computer's number was 9\n",
            "\n",
            "Round 2\n",
            "Your number is 56\n",
            "Do you think your number is higher or lower than the computer's number? (higher/lower): lower\n",
            "You were right! The computer's number was 97\n",
            "\n",
            "Round 3\n",
            "Your number is 69\n",
            "Do you think your number is higher or lower than the computer's number? (higher/lower): lower\n",
            "That's incorrect. The computer's number was 35\n",
            "\n",
            "Round 4\n",
            "Your number is 34\n"
          ]
        }
      ],
      "source": [
        "import random\n",
        "\n",
        "print(\"(High Low Game)\")\n",
        "\n",
        "rounds = 5  # 'round' is a built-in function name, avoid overwriting it\n",
        "\n",
        "def main():\n",
        "    print(\"Welcome to the High-Low Game\")\n",
        "    print(\"****************************\")\n",
        "\n",
        "    your_score = 0\n",
        "    for i in range(rounds):\n",
        "        print(\"\\nRound\", i + 1)\n",
        "\n",
        "        computer_number: int = random.randint(1, 100)  # fixed typo 'rndint'\n",
        "        your_number: int = random.randint(1, 100)      # fixed typo 'randient'\n",
        "        print(\"Your number is\", your_number)\n",
        "\n",
        "        choice: str = input(\"Do you think your number is higher or lower than the computer's number? (higher/lower): \").lower()\n",
        "\n",
        "        higher_and_correct: bool = choice == \"higher\" and your_number > computer_number\n",
        "        lower_and_correct: bool = choice == \"lower\" and your_number < computer_number\n",
        "\n",
        "        if higher_and_correct or lower_and_correct:\n",
        "            print(\"You were right! The computer's number was\", computer_number)\n",
        "            your_score += 1\n",
        "        else:\n",
        "            print(\"That's incorrect. The computer's number was\", computer_number)\n",
        "\n",
        "    print(\"\\nGame over! Your final score is\", your_score, \"out of\", rounds)\n",
        "\n",
        "# Run the game\n",
        "main()\n"
      ]
    },
    {
      "cell_type": "code",
      "source": [
        "print(\"Planetary Weight Calculator\")\n",
        "\n",
        "def main():\n",
        "    print(\"Welcome to the Planetary Weight Calculator\")\n",
        "    print(\"****************************\")\n",
        "\n",
        "    try:\n",
        "        earth_weight = float(input(\"Enter your weight on Earth (in kg): \"))\n",
        "    except ValueError:\n",
        "        print(\"Invalid input! Please enter a numeric value.\")\n",
        "        return\n",
        "\n",
        "    print(\"\\nChoose a planet to calculate your weight on:\")\n",
        "    print(\"1. Mercury\")\n",
        "    print(\"2. Venus\")\n",
        "    print(\"3. Mars\")\n",
        "    print(\"4. Jupiter\")\n",
        "    print(\"5. Saturn\")\n",
        "    print(\"6. Uranus\")\n",
        "    print(\"7. Neptune\")\n",
        "\n",
        "    planet = input(\"Enter the planet name: \").lower()\n",
        "\n",
        "    gravity_factors = {\n",
        "        \"mercury\": 0.38,\n",
        "        \"venus\": 0.91,\n",
        "        \"mars\": 0.38,\n",
        "        \"jupiter\": 2.34,\n",
        "        \"saturn\": 1.06,\n",
        "        \"uranus\": 0.92,\n",
        "        \"neptune\": 1.19\n",
        "    }\n",
        "\n",
        "    if planet in gravity_factors:\n",
        "        planet_weight = earth_weight * gravity_factors[planet]\n",
        "        print(f\"\\nYour weight on {planet.title()} would be: {planet_weight:.2f} kg\")\n",
        "    else:\n",
        "        print(\"Invalid planet name. Please choose from the list.\")\n",
        "\n",
        "# Run the calculator\n",
        "main()\n"
      ],
      "metadata": {
        "id": "UCUB2iS_b8yh"
      },
      "execution_count": null,
      "outputs": []
    },
    {
      "cell_type": "code",
      "source": [
        "print(\"Lists and Dicts\")\n",
        "\n",
        "# Function to safely access a list element\n",
        "def access_element(my_list, index):\n",
        "    if 0 <= index < len(my_list):\n",
        "        return my_list[index]\n",
        "    else:\n",
        "        return \"Index out of range\"\n",
        "\n",
        "# Function to safely access a dictionary value\n",
        "def access_value(my_dict, key):\n",
        "    return my_dict.get(key, \"Key not found\")\n",
        "\n",
        "# Sample list and dictionary\n",
        "my_list = [\"apple\", \"banana\", \"cherry\"]\n",
        "my_dict = {\"name\": \"Samrah\", \"age\": 25, \"city\": \"Lahore\"}\n",
        "\n",
        "# Example usage\n",
        "print(\"\\nAccessing list element at index 1:\")\n",
        "print(access_element(my_list, 1))  # Output: banana\n",
        "\n",
        "print(\"\\nAccessing list element at index 5:\")\n",
        "print(access_element(my_list, 5))  # Output: Index out of range\n",
        "\n",
        "print(\"\\nAccessing value with key 'name':\")\n",
        "print(access_value(my_dict, \"name\"))  # Output: Samrah\n",
        "\n",
        "print(\"\\nAccessing value with key 'email':\")\n",
        "print(access_value(my_dict, \"email\"))  # Output: Key not found\n"
      ],
      "metadata": {
        "id": "Ke1CGemhcPDL"
      },
      "execution_count": null,
      "outputs": []
    }
  ]
}