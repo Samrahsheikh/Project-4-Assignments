{
  "nbformat": 4,
  "nbformat_minor": 0,
  "metadata": {
    "colab": {
      "provenance": [],
      "authorship_tag": "ABX9TyO7o3KlDSojc9ENl9z3zmg5",
      "include_colab_link": true
    },
    "kernelspec": {
      "name": "python3",
      "display_name": "Python 3"
    },
    "language_info": {
      "name": "python"
    }
  },
  "cells": [
    {
      "cell_type": "markdown",
      "metadata": {
        "id": "view-in-github",
        "colab_type": "text"
      },
      "source": [
        "<a href=\"https://colab.research.google.com/github/Samrahsheikh/Project-4-Assignments/blob/main/04_dictionaries.ipynb\" target=\"_parent\"><img src=\"https://colab.research.google.com/assets/colab-badge.svg\" alt=\"Open In Colab\"/></a>"
      ]
    },
    {
      "cell_type": "code",
      "execution_count": 3,
      "metadata": {
        "colab": {
          "base_uri": "https://localhost:8080/"
        },
        "id": "yjxDmBi_3euc",
        "outputId": "cfda35ec-7c01-4380-d464-e55752381fe5"
      },
      "outputs": [
        {
          "output_type": "stream",
          "name": "stdout",
          "text": [
            "00_count_nums\n",
            "Enter a number (or type 'Exit' to quit): 2\n",
            "Enter a number (or type 'Exit' to quit): 5\n",
            "Enter a number (or type 'Exit' to quit): 7\n",
            "Enter a number (or type 'Exit' to quit): 8\n",
            "Enter a number (or type 'Exit' to quit): 9\n",
            "Enter a number (or type 'Exit' to quit): 9\n",
            "Enter a number (or type 'Exit' to quit): 8\n",
            "Enter a number (or type 'Exit' to quit): exit\n",
            "\n",
            "Number Counts:\n",
            "2 appears 1 times\n",
            "5 appears 1 times\n",
            "7 appears 1 times\n",
            "8 appears 2 times\n",
            "9 appears 2 times\n"
          ]
        }
      ],
      "source": [
        "print(\"00_count_nums\")\n",
        "\n",
        "def count_numbers():\n",
        "    count_dict = {}\n",
        "\n",
        "    while True:\n",
        "        num = input(\"Enter a number (or type 'Exit' to quit): \")\n",
        "        if num.lower() == 'exit':\n",
        "            break\n",
        "        if num.isdigit():\n",
        "            num = int(num)\n",
        "            count_dict[num] = count_dict.get(num, 0) + 1\n",
        "        else:\n",
        "            print(\"Invalid input. Please enter a number or 'Exit'.\")\n",
        "\n",
        "    return count_dict\n",
        "\n",
        "def display_counts(count_dict):\n",
        "    print(\"\\nNumber Counts:\")\n",
        "    for key, value in count_dict.items():\n",
        "        print(f\"{key} appears {value} times\")\n",
        "\n",
        "if __name__ == '__main__':\n",
        "    counts = count_numbers()\n",
        "    display_counts(counts)\n"
      ]
    },
    {
      "cell_type": "code",
      "source": [
        "print(\"01_phonebook\")\n",
        "\n",
        "def read_phone_numbers():\n",
        "    \"\"\"\n",
        "    Ask the user for names/numbers to store in a phonebook (dictionary).\n",
        "    Returns the phonebook.\n",
        "    \"\"\"\n",
        "    print(\"\\n📖 Add Contacts to Phone Book (press Enter to stop):\")\n",
        "    phonebook = {}  # Create empty phonebook\n",
        "\n",
        "    while True:\n",
        "        name = input(\"Name: \")\n",
        "        if name == \"\":\n",
        "            break\n",
        "        number = input(\"Number: \")\n",
        "        phonebook[name] = number\n",
        "\n",
        "    return phonebook\n",
        "\n",
        "\n",
        "def print_phonebook(phonebook):\n",
        "    \"\"\"\n",
        "    Prints out all the names/numbers in the phonebook.\n",
        "    \"\"\"\n",
        "    print(\"\\n📒 Your Phone Book:\")\n",
        "    if not phonebook:\n",
        "        print(\"Phone book is empty.\")\n",
        "    else:\n",
        "        for name in phonebook:\n",
        "            print(f\"{name} → {phonebook[name]}\")\n",
        "\n",
        "\n",
        "def lookup_numbers(phonebook):\n",
        "    \"\"\"\n",
        "    Allow the user to lookup phone numbers in the phonebook\n",
        "    by entering the name.\n",
        "    \"\"\"\n",
        "    print(\"\\n🔍 Look Up Numbers (press Enter to stop):\")\n",
        "    while True:\n",
        "        name = input(\"Enter name to look up: \")\n",
        "        if name == \"\":\n",
        "            break\n",
        "        if name not in phonebook:\n",
        "            print(f\"{name} is not in the phonebook.\")\n",
        "        else:\n",
        "            print(f\"{name}'s number is: {phonebook[name]}\")\n",
        "\n",
        "\n",
        "def main():\n",
        "    print(\"📱 Welcome to the Python Phone Book!\")\n",
        "    phonebook = read_phone_numbers()\n",
        "    print_phonebook(phonebook)\n",
        "    lookup_numbers(phonebook)\n",
        "    print(\"\\n👋 Thanks for using the phone book!\")\n",
        "\n",
        "\n",
        "# Python boilerplate.\n",
        "if __name__ == '__main__':\n",
        "    main()\n"
      ],
      "metadata": {
        "colab": {
          "base_uri": "https://localhost:8080/"
        },
        "id": "gZ9EgQVP3mcU",
        "outputId": "089207c5-1091-4dc1-f7b3-9fa16ab79b51"
      },
      "execution_count": 5,
      "outputs": [
        {
          "output_type": "stream",
          "name": "stdout",
          "text": [
            "01_phonebook\n",
            "📱 Welcome to the Python Phone Book!\n",
            "\n",
            "📖 Add Contacts to Phone Book (press Enter to stop):\n",
            "Name: samrah\n",
            "Number: 0315764223\n",
            "Name: Mishal\n",
            "Number: 03125735123\n",
            "Name: Nimra\n",
            "Number: 123456459\n",
            "Name: \n",
            "\n",
            "📒 Your Phone Book:\n",
            "samrah → 0315764223\n",
            "Mishal → 03125735123\n",
            "Nimra → 123456459\n",
            "\n",
            "🔍 Look Up Numbers (press Enter to stop):\n",
            "Enter name to look up: samrah\n",
            "samrah's number is: 0315764223\n",
            "Enter name to look up: nimra\n",
            "nimra is not in the phonebook.\n",
            "Enter name to look up: Nimra\n",
            "Nimra's number is: 123456459\n",
            "Enter name to look up: Mishal\n",
            "Mishal's number is: 03125735123\n",
            "Enter name to look up: \n",
            "\n",
            "👋 Thanks for using the phone book!\n"
          ]
        }
      ]
    },
    {
      "cell_type": "code",
      "source": [
        "print(\"02_pop_up_shop\")\n",
        "\n",
        "def main():\n",
        "    fruits = {'apple': 1.5, 'durian': 50, 'jackfruit': 80, 'kiwi': 1, 'rambutan': 1.5, 'mango': 5}\n",
        "\n",
        "    total_cost = 0\n",
        "    for fruit_name in fruits:\n",
        "        price = fruits[fruit_name]\n",
        "        amount_bought = int(input(\"How many (\" + fruit_name + \") do you want to buy?: \"))\n",
        "        total_cost += (price * amount_bought)\n",
        "\n",
        "    print(\"Your total is $\" + str(total_cost))\n",
        "\n",
        "\n",
        "# There is no need to edit code beyond this point\n",
        "\n",
        "if __name__ == '__main__':\n",
        "    main()"
      ],
      "metadata": {
        "colab": {
          "base_uri": "https://localhost:8080/"
        },
        "id": "TLsK1CHG3qHu",
        "outputId": "b591cd2f-79ec-4408-f04c-2ed641391268"
      },
      "execution_count": 6,
      "outputs": [
        {
          "output_type": "stream",
          "name": "stdout",
          "text": [
            "02_pop_up_shop\n",
            "How many (apple) do you want to buy?: 5\n",
            "How many (durian) do you want to buy?: 6\n",
            "How many (jackfruit) do you want to buy?: 8\n",
            "How many (kiwi) do you want to buy?: 9\n",
            "How many (rambutan) do you want to buy?: 23\n",
            "How many (mango) do you want to buy?: 54\n",
            "Your total is $1261.0\n"
          ]
        }
      ]
    },
    {
      "cell_type": "code",
      "source": [
        "print(\"03_powerful_passwords\")\n",
        "\n",
        "from hashlib import sha256\n",
        "\n",
        "def hash_password(password):\n",
        "    return sha256(password.encode()).hexdigest()\n",
        "\n",
        "# Stored logins dictionary must be outside the function\n",
        "stored_logins = {\n",
        "    \"example@gmail.com\": hash_password(\"password\"),\n",
        "    \"code_in_placer@cip.org\": hash_password(\"karel\"),\n",
        "}\n",
        "\n",
        "def login(email, password):\n",
        "    if email in stored_logins:\n",
        "        return stored_logins[email] == hash_password(password)\n",
        "    return False\n",
        "\n",
        "if __name__ == '__main__':\n",
        "    email = input(\"Enter your email: \")\n",
        "    password = input(\"Enter your password: \")\n",
        "\n",
        "    if login(email, password):\n",
        "        print(\"Login successful!\")\n",
        "    else:\n",
        "        print(\"Invalid email or password.\")\n"
      ],
      "metadata": {
        "colab": {
          "base_uri": "https://localhost:8080/"
        },
        "id": "1laT-3jS3uuP",
        "outputId": "cbfd6e15-dd2b-496c-cc03-1392c304e7f1"
      },
      "execution_count": 10,
      "outputs": [
        {
          "output_type": "stream",
          "name": "stdout",
          "text": [
            "03_powerful_passwords\n",
            "Enter your email: example@gmail.com\n",
            "Enter your password: password\n",
            "Login successful!\n"
          ]
        }
      ]
    }
  ]
}